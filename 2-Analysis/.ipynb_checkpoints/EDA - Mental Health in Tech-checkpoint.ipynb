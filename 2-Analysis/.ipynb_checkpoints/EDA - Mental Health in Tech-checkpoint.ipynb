{
 "cells": [
  {
   "cell_type": "markdown",
   "metadata": {},
   "source": [
    "# An Exploratory Data Analysis for Mental Health in Tech\n",
    "\n",
    "##### A Capstone Project for DATA 512 A Human Centered Data Science course at University of Washington\n",
    "#### A4: Final Project | Author: Aboli Moroney | Date Created: 03-Nov-2020 | Last Modified: 03-Nov-2020\n"
   ]
  },
  {
   "cell_type": "markdown",
   "metadata": {},
   "source": [
    "### Motivation\n",
    "\n",
    "At the beginning of every year, I pledge to contribute to 2 or 3 social issues that I deeply care about to give back to the community. In January 2020, I commited to spend time on learning about and sensitizing my network of people about 2 such causes - 'Zero Waste' and 'Emotional Well-being and Mental Health'. As a part of this capstone project, I would like to use data to explore how people in the tech industry are affected by mental health issues and how they react to such issues. This research is important to me as it is a growing concern in our community and I am curious to understand how it is being addressed in our industry. People working in the tech industry are increasingly leading stressful lives and working in highly competitive environments. In this lifestyle, self care and mental health often takes a backseat until it becomes a major issue.\n",
    "\n",
    "### Problem Statement\n",
    "\n",
    "With this study, I aim understand the magnitude of the problem, identify the red flags and areas which are lacking and suggest potential solutions to improve the situation. Some questions that I would like to analyze:\n",
    "- How does the perception of mental health varies across gender, age, race, ethnicity, location, etc.?\n",
    "- What are the reservations that the employees may have in discussing these issues with coworkers or employers and seeking help?\n",
    "- Are employers providing healthcare benefits for mental health issues?\n",
    "- How many respondents are have experienced mental health problems or are currently being diagnosed?\n",
    "- How do employers and employees weigh mental health issues compared to other health issues?\n",
    "- What are the leave policies for those suffering from mental health issues?\n",
    "\n",
    "These are just a few to start with and I plan to expand my questionnaire based on what I learn along the way."
   ]
  },
  {
   "cell_type": "markdown",
   "metadata": {},
   "source": [
    "### Data Source \n",
    "\n",
    "For performing this exploratory study, I came across an open source dataset published by **Open Sourcing Mental Illness**, a non-profit, 501(c)(3) corporation dedicated to raising awareness, educating, and providing resources to support mental wellness in the tech and open source communities.<br> [Learn more about OSMI](https://osmihelp.org/about/about-osmi)<br>\n",
    "\n",
    "I chose to use the survey results from 2019 for this analysis which contains responses from over 350 participants. This survey was conducted to measure attitudes towards mental health in the tech workplace, and examine the frequency of mental health disorders among tech workers. <br> [Learn more about the survey/data](https://osmihelp.org/research) <br>\n",
    "[Download data from Kaggle](https://www.kaggle.com/osmihelp/osmi-mental-health-in-tech-survey-2019)<br>\n",
    "\n",
    "This data and research is licensed under a [Creative Commons Attribution-ShareAlike 4.0 International](https://creativecommons.org/licenses/by-sa/4.0/) <br>\n",
    "\n",
    "**Data Summary:**<br>\n",
    "The dataset contains responses to 82 questions by 352 participants. Each question is a column with categorical values and each row represents response from a unique person. I intend to use responses for some of the survey questions to perform my explorations. I am especially intrigued to use this dataset as it contains a lot of categorical variables and will be an ethnographic study to understand the behaviour of the respondents. I also believe that using a categorical dataset to perform a quantitative study will be a good learning challenge for me as a data scientist.<br><br>\n",
    "\n",
    "**Ethical Considerations:**<br>\n",
    "While using this dataset, I will be not be using any 'free text responses' as the respondents may have provided any personally identifiable information. The analysis will strictly be to understand the patterns in diverse populations without a focus on an individual person or community. This study will not reveal information about any individual person or employer if available in the dataset.\n"
   ]
  },
  {
   "cell_type": "markdown",
   "metadata": {},
   "source": [
    "### Unknowns and Dependencies\n",
    "\n",
    "Since this analysis is based on results of the survey conducted by OSMI in 2019, there is not enough evidence that this sample population is a fair representation of the entire tech industry. My analysis is limited to the data available from this source and may not be subject to any inherent biases that the respondents may have. <br>\n",
    "I am also yet to analyze the quality of the data in depth. At a high level, I do see missing values for some questions but sufficient responses for most questions to perform my exploration. The outputs and insights of this study are subject to the quality of the data provided. <br>\n",
    "I am yet to explore the technicalities of how to convert categorical responses into quantitative analysis, but am confident I should be able to achieve this with one-hot-encoding and calculating aggregates."
   ]
  }
 ],
 "metadata": {
  "kernelspec": {
   "display_name": "Python 3",
   "language": "python",
   "name": "python3"
  },
  "language_info": {
   "codemirror_mode": {
    "name": "ipython",
    "version": 3
   },
   "file_extension": ".py",
   "mimetype": "text/x-python",
   "name": "python",
   "nbconvert_exporter": "python",
   "pygments_lexer": "ipython3",
   "version": "3.7.6"
  }
 },
 "nbformat": 4,
 "nbformat_minor": 4
}
